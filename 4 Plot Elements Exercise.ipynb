{
 "cells": [
  {
   "cell_type": "markdown",
   "metadata": {},
   "source": [
    "### Plot the Elements Exercise"
   ]
  },
  {
   "cell_type": "code",
   "execution_count": 1,
   "metadata": {},
   "outputs": [],
   "source": [
    "#Get the libraries\n",
    "import numpy as np\n",
    "import pandas as pd\n",
    "from pydataset import data\n",
    "#Import the figure function\n",
    "from bokeh.plotting import figure\n",
    "#Import output utilities\n",
    "from bokeh.io import output_file, show\n",
    "#Import Plot Utilities\n",
    "from bokeh.models import Range1d,PanTool,ResetTool,CrosshairTool,HoverTool,ColumnDataSource,LassoSelectTool\n",
    "#Import COlor Palettes\n",
    "from bokeh.palettes import d3,mpl,brewer\n",
    "#Import Sample Dataset\n",
    "from bokeh.sampledata.periodic_table import elements"
   ]
  },
  {
   "cell_type": "code",
   "execution_count": 2,
   "metadata": {},
   "outputs": [],
   "source": [
    "elements.describe()\n",
    "#Drop the missing rows\n",
    "elements.dropna(inplace=True)\n",
    "#Replace space by blank in column names\n",
    "elements.columns=[c.lower().replace(' ','') for c in elements.columns]\n",
    "#Scale the column to be sized\n",
    "elements.vanderwaalsradius=[i/10 for i in elements.vanderwaalsradius]"
   ]
  },
  {
   "cell_type": "code",
   "execution_count": 10,
   "metadata": {},
   "outputs": [],
   "source": [
    "#Now create the plot\n",
    "\n",
    "#First add the output object\n",
    "output_file(\"ColDataSourceEx.html\")\n",
    "\n",
    "hover = HoverTool(tooltips=[(\"Element \",\"@name\"),(\"Metal \",\"@metal\"),(\"State \",\"@standardstate\")])\n",
    "\n",
    "#Now add the figure object\n",
    "f=figure(tools=[PanTool(),ResetTool(),CrosshairTool(),LassoSelectTool(),hover]  #Select the tools you want to see\n",
    "         ,toolbar_location=\"below\",toolbar_sticky=False)\n",
    "\n",
    "\n",
    "#You can also remove the logo\n",
    "f.toolbar.logo=None\n",
    "\n",
    "#No minor grid lines\n",
    "f.grid.minor_grid_line_color=None\n",
    "#Add Axis labels\n",
    "f.xaxis.axis_label=\"Atomic Radius\"\n",
    "f.yaxis.axis_label=\"Boiling Point\"\n",
    "\n",
    "#Make it italices\n",
    "f.axis.axis_label_text_font_style=\"italic\"\n",
    "\n",
    "#Increase the font size\n",
    "f.axis.axis_label_text_font_size=\"20px\"\n",
    "\n",
    "#Get the \n",
    "\n",
    "\n",
    "#Create the color palette\n",
    "vals=elements.metal.unique()\n",
    "clr=d3['Category10'][len(vals)]\n",
    "\n",
    "\n",
    "for i,j in zip(vals,clr):\n",
    "    \n",
    "    #Create and filter data\n",
    "    dt=elements.loc[elements.metal==i]\n",
    "    dt1=ColumnDataSource(dt)\n",
    "\n",
    "    #Get the basic plot done\n",
    "    f.circle(x=\"atomicradius\"\n",
    "             ,y=\"boilingpoint\"\n",
    "             ,size=\"vanderwaalsradius\"\n",
    "            ,fill_alpha=0.8   #Dim the fill color\n",
    "             ,color=j\n",
    "             ,legend=i\n",
    "             ,line_dash='solid'\n",
    "             ,muted_color=j    #Add functionality for legend selection\n",
    "             ,muted_alpha=0.1\n",
    "             ,source=dt1)\n",
    "\n",
    "#Configure the legend poliy\n",
    "f.legend.location=\"top_left\"\n",
    "f.legend.click_policy=\"mute\"\n",
    "f.legend.border_line_color=None\n",
    "\n",
    "\n",
    "show(f)\n",
    "\n"
   ]
  }
 ],
 "metadata": {
  "kernelspec": {
   "display_name": "Python 3",
   "language": "python",
   "name": "python3"
  },
  "language_info": {
   "codemirror_mode": {
    "name": "ipython",
    "version": 3
   },
   "file_extension": ".py",
   "mimetype": "text/x-python",
   "name": "python",
   "nbconvert_exporter": "python",
   "pygments_lexer": "ipython3",
   "version": "3.5.2"
  }
 },
 "nbformat": 4,
 "nbformat_minor": 2
}
