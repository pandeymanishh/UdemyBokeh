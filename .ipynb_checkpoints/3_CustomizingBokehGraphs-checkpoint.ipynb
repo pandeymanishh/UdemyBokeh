{
 "cells": [
  {
   "cell_type": "markdown",
   "metadata": {},
   "source": [
    "### Customizing Bokeh Graphs"
   ]
  },
  {
   "cell_type": "code",
   "execution_count": 2,
   "metadata": {},
   "outputs": [],
   "source": [
    "#Import the libraries\n",
    "import pandas as pd\n",
    "import numpy as np\n",
    "from pydataset import data\n",
    "from bokeh.plotting import figure\n",
    "from bokeh.io import output_file, show\n",
    "from bokeh.models import Range1d, PanTool, ResetTool,CrosshairTool,LassoSelectTool,HoverTool,ColumnDataSource\n",
    "from bokeh.palettes import brewer,d3,mpl\n",
    "\n",
    "flowers=data('iris')\n",
    "\n",
    "flowers['catA']=np.where(flowers['Sepal.Length']<5,'LT5',np.where(flowers['Sepal.Length']<6.5,'LT65','GT65'))"
   ]
  },
  {
   "cell_type": "code",
   "execution_count": null,
   "metadata": {},
   "outputs": [],
   "source": [
    "flowers['catA'].value_counts()"
   ]
  },
  {
   "cell_type": "markdown",
   "metadata": {},
   "source": [
    "##### 1  - Setup the basic Plot"
   ]
  },
  {
   "cell_type": "code",
   "execution_count": null,
   "metadata": {},
   "outputs": [],
   "source": [
    "\n",
    "#Use year and engineering columns to plot a line chart\n",
    "\n",
    "#First Create the outputfile\n",
    "output_file(\"3_customize.html\")\n",
    "\n",
    "#Now create the figure object\n",
    "f=figure()\n"
   ]
  },
  {
   "cell_type": "markdown",
   "metadata": {},
   "source": [
    "#### 2 Plot height and width"
   ]
  },
  {
   "cell_type": "code",
   "execution_count": null,
   "metadata": {},
   "outputs": [],
   "source": [
    "#Setup the plot area\n",
    "f.plot_width=1000\n",
    "f.plot_height=600\n"
   ]
  },
  {
   "cell_type": "markdown",
   "metadata": {},
   "source": [
    "#### 2 - Add Background"
   ]
  },
  {
   "cell_type": "code",
   "execution_count": null,
   "metadata": {},
   "outputs": [],
   "source": [
    "#Background colour\n",
    "#f.background_fill_color='#deebf7'\n",
    "f.background_fill_color=(199,21,33,0.3)\n",
    "\n",
    "#Apply transparency\n",
    "#.background_fill_alpha=0.3"
   ]
  },
  {
   "cell_type": "markdown",
   "metadata": {},
   "source": [
    "#### 3 Add and style titles"
   ]
  },
  {
   "cell_type": "code",
   "execution_count": null,
   "metadata": {},
   "outputs": [],
   "source": [
    "#Style the titles\n",
    "f.title.text=\"Iris Plot\"\n",
    "f.title.text_color=(21,199,33,0.8)\n",
    "f.title.text_font=\"calibri\"\n",
    "f.title.text_font_size=\"25px\"\n",
    "f.title.align=\"center\""
   ]
  },
  {
   "cell_type": "markdown",
   "metadata": {},
   "source": [
    "#### 4 Axis Styling"
   ]
  },
  {
   "cell_type": "code",
   "execution_count": null,
   "metadata": {},
   "outputs": [],
   "source": [
    "#Style the axis\n",
    "f.axis.minor_tick_line_color=None\n",
    "\n",
    "#Ticks position\n",
    "#f.axis.minor_tick_in=6  #place outside the graph\n",
    "#f.axis.minor_tick_out=10\n",
    "f.axis.major_tick_in=0  #Place major ticks outside the plot\n",
    "f.axis.major_tick_out=10  #Place major ticks outside the plot\n",
    "\n",
    "#Add labels\n",
    "f.xaxis.axis_label=\"Petal Length\"\n",
    "f.yaxis.axis_label=\"Petal Width\"\n",
    "\n",
    "#Also Add Color\n",
    "f.axis.axis_label_text_color=\"blue\"\n",
    "f.axis.major_label_text_color=\"orange\"\n",
    "\n",
    "#Add range to the axis\n",
    "f.x_range=Range1d(start=0,end=10)\n",
    "\n",
    "#Now create the plot\n",
    "f.circle(flowers[\"Petal.Length\"],flowers[\"Petal.Width\"])\n",
    "show(f)"
   ]
  },
  {
   "cell_type": "markdown",
   "metadata": {},
   "source": [
    "#### 5 Working with Categorical data"
   ]
  },
  {
   "cell_type": "code",
   "execution_count": null,
   "metadata": {},
   "outputs": [],
   "source": [
    "f=figure(x_range=np.unique(flowers.catA)\n",
    "        ,y_range=np.unique(flowers.Species))\n",
    "\n",
    "#f.xaxis[0].axis_label_text_font=\"calibri\"\n",
    "f.axis.major_label_text_font=\"verdana\"\n",
    "f.axis.major_label_text_font_size='20px'\n",
    "f.circle(x=['GT65','LT5'],y=['setosa','virginica'],size=8)\n",
    "\n",
    "show(f)"
   ]
  },
  {
   "cell_type": "markdown",
   "metadata": {},
   "source": [
    "#### 6 Stylng the gridlines and toolset"
   ]
  },
  {
   "cell_type": "code",
   "execution_count": null,
   "metadata": {},
   "outputs": [],
   "source": [
    "#Better to add tools within the figure object\n",
    "f=figure(tools=[PanTool(),ResetTool(),CrosshairTool(),LassoSelectTool(),HoverTool()]\n",
    "         ,toolbar_location=\"below\",toolbar_sticky=False)\n",
    "\n",
    "f.toolbar.logo=None\n",
    "\n",
    "\n",
    "#No grid lines\n",
    "f.xgrid.grid_line_color=None\n",
    "f.ygrid.grid_line_color=\"red\"\n",
    "f.ygrid.grid_line_alpha=0.3\n",
    "f.ygrid.grid_line_dash=[3,3]\n",
    "f.axis.minor_tick_line_color=None\n",
    "f.axis.axis_line_color=\"grey\"\n",
    "\n",
    "clrs=brewer['Dark2'][len(flowers.Species.unique())]\n",
    "vals=flowers.Species.unique()\n",
    "\n",
    "\n",
    "colormap={i:j for i,j in zip(vals,clrs)}\n",
    "\n",
    "#Now create the plot\n",
    "#Also managing the legends\n",
    "f.circle(flowers[\"Petal.Length\"],flowers[\"Petal.Width\"]\n",
    "         ,size=flowers['Sepal.Length'] #also lets make the circle size dependent on another variable\n",
    "         ,fill_alpha=0.5    #Alpha for circle fill \n",
    "         ,color=[colormap[x] for x in flowers['Species']]\n",
    "         ,line_dash='solid')  #Add colour based on a column\n",
    "\n",
    "show(f)"
   ]
  },
  {
   "cell_type": "markdown",
   "metadata": {},
   "source": [
    "#### 7 Adding and modiyfing the legends"
   ]
  },
  {
   "cell_type": "code",
   "execution_count": null,
   "metadata": {},
   "outputs": [],
   "source": [
    "#Better to add tools within the figure object\n",
    "f=figure(tools=[PanTool(),ResetTool(),CrosshairTool(),LassoSelectTool(),HoverTool()]\n",
    "         ,toolbar_location=\"below\",toolbar_sticky=False)\n",
    "\n",
    "f.toolbar.logo=None\n",
    "\n",
    "\n",
    "#No grid lines\n",
    "f.xgrid.grid_line_color=None\n",
    "f.ygrid.grid_line_color=\"red\"\n",
    "f.ygrid.grid_line_alpha=0.3\n",
    "f.ygrid.grid_line_dash=[3,3]\n",
    "f.axis.minor_tick_line_color=None\n",
    "f.axis.axis_line_color=\"grey\"\n",
    "\n",
    "clrs=d3['Category10'][len(flowers.Species.unique())]\n",
    "vals=flowers.Species.unique()\n",
    "\n",
    "for i,j in zip(vals,clrs):    \n",
    "    f.circle(flowers.loc[flowers.Species==i,\"Petal.Length\"]\n",
    "             ,flowers.loc[flowers.Species==i,\"Petal.Width\"]\n",
    "             ,size=flowers.loc[flowers.Species==i,'Sepal.Length'] #also lets make the circle size dependent on another variable\n",
    "             ,fill_alpha=0.5    #Alpha for circle fill \n",
    "             ,color=j\n",
    "             ,line_dash='solid'\n",
    "             ,legend=i\n",
    "             ,muted_color=j\n",
    "             ,muted_alpha=0.2)  #Add colour based on a column\n",
    "\n",
    "f.legend.location=\"top_left\"\n",
    "#f.legend.click_policy=\"hide\"  #Hide on click\n",
    "f.legend.click_policy=\"mute\"   #Mute the selected colors\n",
    "f.legend.border_line_color=None #Remove the legend box border\n",
    "\n",
    "show(f)"
   ]
  },
  {
   "cell_type": "markdown",
   "metadata": {},
   "source": [
    "#### 8 Custom Tooltips in bokeh"
   ]
  },
  {
   "cell_type": "code",
   "execution_count": 5,
   "metadata": {},
   "outputs": [],
   "source": [
    "#Better to add tools within the figure object\n",
    "f=figure(tools=[PanTool(),ResetTool(),CrosshairTool(),LassoSelectTool(),'hover']\n",
    "         ,toolbar_location=\"below\",toolbar_sticky=False)\n",
    "\n",
    "f.toolbar.logo=None\n",
    "\n",
    "#No grid lines\n",
    "f.xgrid.grid_line_color=None\n",
    "f.ygrid.grid_line_color=\"red\"\n",
    "f.ygrid.grid_line_alpha=0.3\n",
    "f.ygrid.grid_line_dash=[3,3]\n",
    "f.axis.minor_tick_line_color=None\n",
    "f.axis.axis_line_color=\"grey\"\n",
    "\n",
    "clrs=d3['Category10'][len(flowers.Species.unique())]\n",
    "vals=flowers.Species.unique()\n",
    "\n",
    "for i,j in zip(vals,clrs): \n",
    "    dt=flowers.loc[flowers.Species==i]\n",
    "    dt1=ColumnDataSource({\"species\":dt.Species\n",
    "                          ,\"petallt\":dt[\"Petal.Length\"]\n",
    "                          ,\"petalwd\":dt[\"Petal.Width\"]\n",
    "                          ,\"sepallt\":dt[\"Sepal.Length\"]})\n",
    "    \n",
    "    f.circle(\"petallt\"\n",
    "             ,\"petalwd\"\n",
    "             ,size=\"sepallt\" #also lets make the circle size dependent on another variable\n",
    "             ,source=dt1\n",
    "             ,fill_alpha=0.5    #Alpha for circle fill \n",
    "             ,color=j\n",
    "             ,line_dash='solid'\n",
    "             ,legend=i\n",
    "             ,muted_color=j\n",
    "             ,muted_alpha=0.2)  #Add colour based on a column\n",
    "        \n",
    "hover = f.select(dict(type=HoverTool))\n",
    "hover.tooltips = [(\"Species\",\"@species\"),(\"Petal Length\", \"@petallt\"), (\"Petal Width\", \"@petalwd\")]\n",
    "hover.mode=\"mouse\"\n",
    "\n",
    "f.legend.location=\"top_left\"\n",
    "#f.legend.click_policy=\"hide\"  #Hide on click\n",
    "f.legend.click_policy=\"mute\"   #Mute the selected colors\n",
    "f.legend.border_line_color=None #Remove the legend box border\n",
    "\n",
    "show(f)"
   ]
  },
  {
   "cell_type": "code",
   "execution_count": 7,
   "metadata": {},
   "outputs": [
    {
     "data": {
      "text/plain": [
       "101    6.0\n",
       "102    5.1\n",
       "103    5.9\n",
       "104    5.6\n",
       "Name: Petal.Length, dtype: float64"
      ]
     },
     "execution_count": 7,
     "metadata": {},
     "output_type": "execute_result"
    }
   ],
   "source": [
    "#Columndatasource could be accessed like a data set\n",
    "dt1.data[\"petallt\"][0:4]"
   ]
  },
  {
   "cell_type": "code",
   "execution_count": 3,
   "metadata": {},
   "outputs": [],
   "source": [
    "#Using column data source\n",
    "dt=ColumnDataSource(flowers)"
   ]
  },
  {
   "cell_type": "code",
   "execution_count": 5,
   "metadata": {},
   "outputs": [
    {
     "data": {
      "text/plain": [
       "array(['setosa', 'setosa', 'setosa', 'setosa', 'setosa', 'setosa',\n",
       "       'setosa', 'setosa', 'setosa', 'setosa', 'setosa', 'setosa',\n",
       "       'setosa', 'setosa', 'setosa', 'setosa', 'setosa', 'setosa',\n",
       "       'setosa', 'setosa', 'setosa', 'setosa', 'setosa', 'setosa',\n",
       "       'setosa', 'setosa', 'setosa', 'setosa', 'setosa', 'setosa',\n",
       "       'setosa', 'setosa', 'setosa', 'setosa', 'setosa', 'setosa',\n",
       "       'setosa', 'setosa', 'setosa', 'setosa', 'setosa', 'setosa',\n",
       "       'setosa', 'setosa', 'setosa', 'setosa', 'setosa', 'setosa',\n",
       "       'setosa', 'setosa', 'versicolor', 'versicolor', 'versicolor',\n",
       "       'versicolor', 'versicolor', 'versicolor', 'versicolor',\n",
       "       'versicolor', 'versicolor', 'versicolor', 'versicolor',\n",
       "       'versicolor', 'versicolor', 'versicolor', 'versicolor',\n",
       "       'versicolor', 'versicolor', 'versicolor', 'versicolor',\n",
       "       'versicolor', 'versicolor', 'versicolor', 'versicolor',\n",
       "       'versicolor', 'versicolor', 'versicolor', 'versicolor',\n",
       "       'versicolor', 'versicolor', 'versicolor', 'versicolor',\n",
       "       'versicolor', 'versicolor', 'versicolor', 'versicolor',\n",
       "       'versicolor', 'versicolor', 'versicolor', 'versicolor',\n",
       "       'versicolor', 'versicolor', 'versicolor', 'versicolor',\n",
       "       'versicolor', 'versicolor', 'versicolor', 'versicolor',\n",
       "       'versicolor', 'versicolor', 'versicolor', 'virginica', 'virginica',\n",
       "       'virginica', 'virginica', 'virginica', 'virginica', 'virginica',\n",
       "       'virginica', 'virginica', 'virginica', 'virginica', 'virginica',\n",
       "       'virginica', 'virginica', 'virginica', 'virginica', 'virginica',\n",
       "       'virginica', 'virginica', 'virginica', 'virginica', 'virginica',\n",
       "       'virginica', 'virginica', 'virginica', 'virginica', 'virginica',\n",
       "       'virginica', 'virginica', 'virginica', 'virginica', 'virginica',\n",
       "       'virginica', 'virginica', 'virginica', 'virginica', 'virginica',\n",
       "       'virginica', 'virginica', 'virginica', 'virginica', 'virginica',\n",
       "       'virginica', 'virginica', 'virginica', 'virginica', 'virginica',\n",
       "       'virginica', 'virginica', 'virginica'], dtype=object)"
      ]
     },
     "execution_count": 5,
     "metadata": {},
     "output_type": "execute_result"
    }
   ],
   "source": [
    "#Accessing the columndatasource columns\n",
    "dt.data['Species']\n",
    "#Observe that output is an array"
   ]
  },
  {
   "cell_type": "code",
   "execution_count": null,
   "metadata": {},
   "outputs": [],
   "source": [
    "#You can either pass the ColumnDataSource a pandas DF or pass a dictionary object "
   ]
  },
  {
   "cell_type": "code",
   "execution_count": null,
   "metadata": {},
   "outputs": [],
   "source": []
  }
 ],
 "metadata": {
  "kernelspec": {
   "display_name": "Python 3",
   "language": "python",
   "name": "python3"
  },
  "language_info": {
   "codemirror_mode": {
    "name": "ipython",
    "version": 3
   },
   "file_extension": ".py",
   "mimetype": "text/x-python",
   "name": "python",
   "nbconvert_exporter": "python",
   "pygments_lexer": "ipython3",
   "version": "3.5.2"
  }
 },
 "nbformat": 4,
 "nbformat_minor": 2
}
